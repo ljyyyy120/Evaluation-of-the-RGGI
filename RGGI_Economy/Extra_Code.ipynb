{
 "cells": [
  {
   "cell_type": "code",
   "execution_count": null,
   "id": "f03c71ae",
   "metadata": {},
   "outputs": [],
   "source": [
    "#ax = EmploymentPC.iloc[:,:14].T.plot(figsize=(12,6), color='red')\n",
    "plt.figure(figsize=(12, 6))\n",
    "EPCT.loc['CT_EmploymentPC',:'2019'].plot(kind='line', marker='o', color='green')\n",
    "EPCT.loc['UnitedStates_EPC',:'2019'].plot(kind='line', marker='o', color='red')\n",
    "#plt.xticks(range(2006,2020), color='black')\n",
    "plt.ylabel('Employment Percent Change', color='black')\n",
    "plt.xlabel('Year', color='black')\n",
    "plt.axvline(x=3, color='blue', linestyle='--', linewidth=2, label='Implementation of RGGI')\n",
    "legend = plt.legend(['United States', 'Connecticut', 'Implementation of RGGI'], loc='upper right', fontsize=10)\n",
    "#for text in legend.get_texts():\n",
    "    #text.set_color('black')\n",
    "#ax.yaxis.set_major_formatter(ticker.PercentFormatter(decimals=1))\n",
    "#ax.tick_params(axis='y', colors='black')\n",
    "ax.yaxis.tick_left()\n",
    "plt.title('Employment Percent Change in Connecticut vs. United States')\n",
    "plt.tight_layout()\n",
    "plt.show()"
   ]
  },
  {
   "cell_type": "code",
   "execution_count": null,
   "id": "5ea08a3f",
   "metadata": {},
   "outputs": [],
   "source": [
    "EPCT_index = EPCT.copy()\n",
    "EPCT_index['State'] = EPCT_index.index\n",
    "EPCT_index.head()\n",
    "EPCT_index = EPCT_index.reset_index()\n",
    "#EPCT_index = EPCT.rename(columns={'index': 'State'})\n",
    "EPCT_index.columns\n",
    "\n",
    "\n",
    "# Accurate RGGI: RGGI States (CT, DE, ME, MD, MA, NH, NY, RI, VT)\n",
    "\n",
    "RGGI_Status_UnemployPC = []\n",
    "\n",
    "for x in range(len(EPCT_index)):\n",
    "    if EPCT_index.loc[x,'State'] == 'CT_EmploymentPC' or EPCT_index.loc[x,'State'] == 'DE_EmploymentPC' or EPCT_index.loc[x,'State'] == 'ME_EmploymentPC' or EPCT_index.loc[x,'State'] == 'MD_EmploymentPC' or EPCT_index.loc[x,'State'] == 'MA_EmploymentPC' or EPCT_index.loc[x,'State'] == 'NH_EmploymentPC' or EPCT_index.loc[x,'State'] == 'NY_EmploymentPC' or EPCT_index.loc[x,'State'] == 'RI_EmploymentPC' or EPCT_index.loc[x,'State'] == 'VT_EmploymentPC':\n",
    "        RGGI_Status_UnemployPC.append(1)\n",
    "    else:\n",
    "        RGGI_Status_UnemployPC.append(0)\n",
    "\n",
    "EPCT_index['RGGI'] = RGGI_Status_UnemployPC"
   ]
  },
  {
   "cell_type": "code",
   "execution_count": null,
   "id": "adf14eab",
   "metadata": {},
   "outputs": [],
   "source": [
    "# Accurate RGGI: RGGI States (CT, DE, ME, MD, MA, NH, NY, RI, VT)\n",
    "\n",
    "RGGI_Status_Unemploy = []\n",
    "\n",
    "for x in range(len(unemployment_index)):\n",
    "    if unemployment_index.loc[x,'State'] == 'Connecticut' or unemployment_index.loc[x,'State'] == 'Delaware' or unemployment_index.loc[x,'State'] == 'Maine' or unemployment_index.loc[x,'State'] == 'Maryland' or unemployment_index.loc[x,'State'] == 'Massachusetts' or unemployment_index.loc[x,'State'] == 'New Hampshire' or unemployment_index.loc[x,'State'] == 'New York' or unemployment_index.loc[x,'State'] == 'Rhode Island' or unemployment_index.loc[x,'State'] == 'Vermont':\n",
    "        RGGI_Status_Unemploy.append(1)\n",
    "    else:\n",
    "        RGGI_Status_Unemploy.append(0)\n",
    "\n",
    "unemployment_index['RGGI'] = RGGI_Status_Unemploy"
   ]
  },
  {
   "cell_type": "code",
   "execution_count": null,
   "id": "5f2f6cbb",
   "metadata": {},
   "outputs": [],
   "source": [
    "# Select Columns for Regression Analysis\n",
    "\n",
    "selected_columns = unemployment_index.loc[:, ['State', 2011, 2008,'RGGI']]\n",
    "selected_columns.columns = ['State', 'U2011', 'U2008', 'RGGI']\n",
    "selected_columns.head()"
   ]
  },
  {
   "cell_type": "code",
   "execution_count": null,
   "id": "468e4d6e",
   "metadata": {},
   "outputs": [],
   "source": [
    "# Regression 2011_Unemployment~RGGI+2008_Unemployment\n",
    "\n",
    "lm = smf.ols(formula='U2011~RGGI+U2008', data = selected_columns).fit()\n",
    "print(lm.summary())"
   ]
  },
  {
   "cell_type": "markdown",
   "id": "34274304",
   "metadata": {},
   "source": [
    "# Workflow"
   ]
  },
  {
   "cell_type": "code",
   "execution_count": null,
   "id": "a64bda56",
   "metadata": {},
   "outputs": [],
   "source": [
    "big merging"
   ]
  },
  {
   "cell_type": "code",
   "execution_count": null,
   "id": "c599eab5",
   "metadata": {},
   "outputs": [],
   "source": [
    "employmentpc_T = EmploymentPC.T #removed transpose\n",
    "employmentpc_T.head()"
   ]
  },
  {
   "cell_type": "code",
   "execution_count": null,
   "id": "251fa654",
   "metadata": {},
   "outputs": [],
   "source": [
    "employmentpc_T['RGGI'] = RGGI_Status3"
   ]
  },
  {
   "cell_type": "code",
   "execution_count": null,
   "id": "ec1bb77c",
   "metadata": {},
   "outputs": [],
   "source": [
    "# Groupby: Accurate RGGI Statuses (Only 9 States: CT, DE, ME, MA, MD, NH, NY, RI, VT)\n",
    "\n",
    "new_df_pc = employmentpc_T.groupby(['RGGI']).mean()\n",
    "new_df_pc"
   ]
  },
  {
   "cell_type": "code",
   "execution_count": null,
   "id": "efddf9ab",
   "metadata": {},
   "outputs": [],
   "source": [
    "new_df_pc.columns = new_df_pc.columns.astype('int')"
   ]
  },
  {
   "cell_type": "code",
   "execution_count": null,
   "id": "1ac79216",
   "metadata": {},
   "outputs": [],
   "source": [
    "# Plot Employment PC for RGGI States vs. Non-RGGI States\n",
    "\n",
    "new_df_pc.iloc[:,:14].T.plot(figsize=(12,6))\n",
    "plt.title('Employment PC for RGGI States vs. Non-RGGI States')\n",
    "plt.xlabel('Year')\n",
    "plt.ylabel('Percent Change')\n",
    "plt.xticks(range(2006,2020))\n",
    "plt.axvline(x=2009, color='red', linestyle='--', linewidth=2)\n",
    "plt.legend(['Non-RGGI', 'RGGI'])\n",
    "plt.show()"
   ]
  },
  {
   "cell_type": "code",
   "execution_count": null,
   "id": "e89c2686",
   "metadata": {},
   "outputs": [],
   "source": [
    "EmploymentPC['UnitedStates_EPC'] = EmploymentPC.mean(axis=1)"
   ]
  },
  {
   "cell_type": "code",
   "execution_count": null,
   "id": "35edac94",
   "metadata": {},
   "outputs": [],
   "source": [
    "EPCT = EmploymentPC.T\n",
    "EPCT.tail()"
   ]
  },
  {
   "cell_type": "code",
   "execution_count": null,
   "id": "ff4f6444",
   "metadata": {},
   "outputs": [],
   "source": [
    "import matplotlib.pyplot as plt\n",
    "import matplotlib.ticker as mtick\n",
    "\n",
    "plt.figure(figsize=(12, 6))\n",
    "\n",
    "EPCT.loc['CT_EmploymentPC',:'2018'].plot(kind='line', marker='o', color='green')\n",
    "EPCT.loc['UnitedStates_EPC',:'2018'].plot(kind='line', marker='o', color='red')\n",
    "\n",
    "plt.gca().yaxis.set_major_formatter(mtick.PercentFormatter(decimals=0))\n",
    "\n",
    "plt.ylabel('Employment Percent Change', color='black', fontsize=14)\n",
    "plt.xlabel('Year', color='black', fontsize=14)\n",
    "plt.axvline(x=3, color='blue', linestyle='--', linewidth=2, label='Implementation of RGGI')\n",
    "legend = plt.legend(['Connecticut', 'United States', 'Implementation of RGGI'], loc='lower right', fontsize=14)\n",
    "plt.title('Employment Percent Change in Connecticut vs. United States', fontsize=16)\n",
    "plt.tight_layout()\n",
    "plt.show()"
   ]
  }
 ],
 "metadata": {
  "kernelspec": {
   "display_name": "Python 3 (ipykernel)",
   "language": "python",
   "name": "python3"
  },
  "language_info": {
   "codemirror_mode": {
    "name": "ipython",
    "version": 3
   },
   "file_extension": ".py",
   "mimetype": "text/x-python",
   "name": "python",
   "nbconvert_exporter": "python",
   "pygments_lexer": "ipython3",
   "version": "3.10.11"
  }
 },
 "nbformat": 4,
 "nbformat_minor": 5
}
